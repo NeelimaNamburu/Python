{
 "cells": [
  {
   "cell_type": "code",
   "execution_count": null,
   "id": "b6e0ebe3",
   "metadata": {},
   "outputs": [],
   "source": [
    "#import library\n",
    "\n",
    "import matplotlib.pyplot as plt\n",
    "%matplotlib inline"
   ]
  },
  {
   "cell_type": "code",
   "execution_count": null,
   "id": "f6a2a29d",
   "metadata": {},
   "outputs": [],
   "source": [
    "#Creating a class\n",
    "\n",
    "class Circle(object):\n",
    "    \n",
    "#Add constructor\n",
    "    def __init__(self, radius=3, color='blue'):\n",
    "        self.radius = radius\n",
    "        self.color = color\n",
    "        \n",
    "#Add method\n",
    "    def add_radius(self, r):\n",
    "        self.radius = self.radius + r\n",
    "        return(self.radius)\n",
    "    \n",
    "#Add method\n",
    "    def drawCircle(self):\n",
    "        plt.gca().add_patch(plt.circle((0, 0), radius=self.radius, fc=self.color))\n",
    "        plt.axis('Scaled')\n",
    "        plt.show()"
   ]
  },
  {
   "cell_type": "code",
   "execution_count": null,
   "id": "1fb558b6",
   "metadata": {},
   "outputs": [],
   "source": [
    "# Creating an instance of class circle\n",
    "\n",
    "# Create an object red ircle\n",
    "\n",
    "RedCircle = Circle(10, 'red')"
   ]
  },
  {
   "cell_type": "code",
   "execution_count": null,
   "id": "866e53ba",
   "metadata": {},
   "outputs": [],
   "source": [
    "# Find out the methods that can be used on object redcircle\n",
    "\n",
    "dir(RedCircle)"
   ]
  },
  {
   "cell_type": "code",
   "execution_count": null,
   "id": "66ad2323",
   "metadata": {},
   "outputs": [],
   "source": [
    "# Print the object attribute radius\n",
    "\n",
    "RedCircle.radius"
   ]
  },
  {
   "cell_type": "code",
   "execution_count": null,
   "id": "aa02965c",
   "metadata": {},
   "outputs": [],
   "source": [
    "RedCircle.color"
   ]
  },
  {
   "cell_type": "code",
   "execution_count": null,
   "id": "39f32ad4",
   "metadata": {},
   "outputs": [],
   "source": [
    "RedCircle.radius=1\n",
    "RedCircle.radius"
   ]
  },
  {
   "cell_type": "code",
   "execution_count": null,
   "id": "4f50d235",
   "metadata": {},
   "outputs": [],
   "source": [
    "# Call the method drawCircle\n",
    "\n",
    "RedCircle.drawCircle()"
   ]
  },
  {
   "cell_type": "markdown",
   "id": "7fb5db32",
   "metadata": {},
   "source": [
    "Lets create a class rectangle with the attributes of height, width and color we will only add method to draw the rectangle object"
   ]
  },
  {
   "cell_type": "code",
   "execution_count": null,
   "id": "f7f8e98c",
   "metadata": {},
   "outputs": [],
   "source": [
    "# Create a new rectangle class for creating a rectangle oblect\n",
    "\n",
    "class Rectangle(object):\n",
    "    \n",
    "    \n",
    "# constructor\n",
    "    def __init__(self, width = 2, height = 3, color = 'r'):\n",
    "        self.height = height\n",
    "        self.width = width\n",
    "        self.color = color     \n",
    "    \n",
    "# Method\n",
    "    def drawRectangle(self):\n",
    "         plt.gca().add_patch(plt.rectangle((0,0), self.width, self.height, fc = self.color))\n",
    "         plt.axis('scaled')\n",
    "         plt.show()\n",
    "   "
   ]
  },
  {
   "cell_type": "code",
   "execution_count": null,
   "id": "23e905aa",
   "metadata": {},
   "outputs": [],
   "source": [
    "# Create a new object retangle\n",
    "\n",
    "SkinnyBlueRectangle = Rectangle(3, 2, 'blue')"
   ]
  },
  {
   "cell_type": "code",
   "execution_count": null,
   "id": "4c94c311",
   "metadata": {},
   "outputs": [],
   "source": [
    "SkinnyBlueRectangle.height"
   ]
  },
  {
   "cell_type": "code",
   "execution_count": null,
   "id": "d50e7d53",
   "metadata": {},
   "outputs": [],
   "source": [
    "SkinnyBlueRectangle.width"
   ]
  },
  {
   "cell_type": "code",
   "execution_count": null,
   "id": "636c85c7",
   "metadata": {},
   "outputs": [],
   "source": [
    "SkinnyBlueRectangle.color"
   ]
  },
  {
   "cell_type": "code",
   "execution_count": null,
   "id": "a031c0cb",
   "metadata": {},
   "outputs": [],
   "source": [
    "SkinnyBlueRectangle.drawRectangle()"
   ]
  },
  {
   "cell_type": "code",
   "execution_count": null,
   "id": "86514422",
   "metadata": {},
   "outputs": [],
   "source": [
    "# Create a new object rectangle\n",
    "\n",
    "FatYellowRectangle = Rectangle(20, 5, 'yellow')"
   ]
  },
  {
   "cell_type": "code",
   "execution_count": null,
   "id": "e7938857",
   "metadata": {},
   "outputs": [],
   "source": [
    "# We can access the attributes of the instance of the class by using the dot notation:\n",
    "\n",
    "# Print the object attribute height\n",
    "\n",
    "FatYellowRectangle.height"
   ]
  },
  {
   "cell_type": "code",
   "execution_count": null,
   "id": "98c801a2",
   "metadata": {},
   "outputs": [],
   "source": [
    "# Print the object attribute width\n",
    "\n",
    "FatYellowRectangle.width"
   ]
  },
  {
   "cell_type": "code",
   "execution_count": null,
   "id": "7045e7be",
   "metadata": {},
   "outputs": [],
   "source": [
    "#We can draw the object:\n",
    "# Use the drawRectangle method to draw the shape\n",
    "\n",
    "\n",
    "FatYellowRectangle.drawRectangle()"
   ]
  },
  {
   "cell_type": "code",
   "execution_count": null,
   "id": "b32766e5",
   "metadata": {},
   "outputs": [],
   "source": []
  }
 ],
 "metadata": {
  "kernelspec": {
   "display_name": "Python 3 (ipykernel)",
   "language": "python",
   "name": "python3"
  },
  "language_info": {
   "codemirror_mode": {
    "name": "ipython",
    "version": 3
   },
   "file_extension": ".py",
   "mimetype": "text/x-python",
   "name": "python",
   "nbconvert_exporter": "python",
   "pygments_lexer": "ipython3",
   "version": "3.11.4"
  }
 },
 "nbformat": 4,
 "nbformat_minor": 5
}
